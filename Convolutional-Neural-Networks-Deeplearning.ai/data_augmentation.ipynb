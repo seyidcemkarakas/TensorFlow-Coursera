{
  "nbformat": 4,
  "nbformat_minor": 0,
  "metadata": {
    "colab": {
      "name": "data-augmentation.ipynb",
      "provenance": []
    },
    "kernelspec": {
      "name": "python3",
      "display_name": "Python 3"
    },
    "accelerator": "GPU"
  },
  "cells": [
    {
      "cell_type": "markdown",
      "metadata": {
        "id": "1azepV1_rnGz",
        "colab_type": "text"
      },
      "source": [
        "#Başlayalım"
      ]
    },
    {
      "cell_type": "markdown",
      "metadata": {
        "id": "VcPklbVdrvyz",
        "colab_type": "text"
      },
      "source": [
        "cats_and_dogs zip dosyası ile verilerimizi çekelim"
      ]
    },
    {
      "cell_type": "code",
      "metadata": {
        "id": "NZ6FuUzHrlP8",
        "colab_type": "code",
        "colab": {
          "base_uri": "https://localhost:8080/",
          "height": 224
        },
        "outputId": "46a0accf-6984-4459-ea1b-a547b0ab3c3e"
      },
      "source": [
        "!wget --no-check-certificate \\\n",
        "    https://storage.googleapis.com/mledu-datasets/cats_and_dogs_filtered.zip \\\n",
        "    -O /tmp/cats_and_dogs_filtered.zip"
      ],
      "execution_count": null,
      "outputs": [
        {
          "output_type": "stream",
          "text": [
            "--2020-08-15 15:20:42--  https://storage.googleapis.com/mledu-datasets/cats_and_dogs_filtered.zip\n",
            "Resolving storage.googleapis.com (storage.googleapis.com)... 74.125.142.128, 74.125.195.128, 74.125.20.128, ...\n",
            "Connecting to storage.googleapis.com (storage.googleapis.com)|74.125.142.128|:443... connected.\n",
            "HTTP request sent, awaiting response... 200 OK\n",
            "Length: 68606236 (65M) [application/zip]\n",
            "Saving to: ‘/tmp/cats_and_dogs_filtered.zip’\n",
            "\n",
            "\r          /tmp/cats   0%[                    ]       0  --.-KB/s               \r         /tmp/cats_  61%[===========>        ]  40.48M   202MB/s               \r/tmp/cats_and_dogs_ 100%[===================>]  65.43M   250MB/s    in 0.3s    \n",
            "\n",
            "2020-08-15 15:20:42 (250 MB/s) - ‘/tmp/cats_and_dogs_filtered.zip’ saved [68606236/68606236]\n",
            "\n"
          ],
          "name": "stdout"
        }
      ]
    },
    {
      "cell_type": "markdown",
      "metadata": {
        "id": "RF84biaar80l",
        "colab_type": "text"
      },
      "source": [
        "dosya işlemlerinin yapalım"
      ]
    },
    {
      "cell_type": "code",
      "metadata": {
        "id": "RRSKIp_qrom8",
        "colab_type": "code",
        "colab": {}
      },
      "source": [
        "import os\n",
        "import zipfile\n",
        "import tensorflow as tf\n",
        "from tensorflow.keras.optimizers import RMSprop\n",
        "from tensorflow.keras.preprocessing.image import ImageDataGenerator\n",
        "\n",
        "local_zip = '/tmp/cats_and_dogs_filtered.zip'\n",
        "zip_ref = zipfile.ZipFile(local_zip, 'r')\n",
        "zip_ref.extractall('/tmp')\n",
        "zip_ref.close()"
      ],
      "execution_count": null,
      "outputs": []
    },
    {
      "cell_type": "markdown",
      "metadata": {
        "id": "e-SlfknisDM1",
        "colab_type": "text"
      },
      "source": [
        "klavuz/direction işlemlerini yapalım"
      ]
    },
    {
      "cell_type": "code",
      "metadata": {
        "id": "rsSeaDEZr_a_",
        "colab_type": "code",
        "colab": {}
      },
      "source": [
        "base_dir = '/tmp/cats_and_dogs_filtered'\n",
        "train_dir = os.path.join(base_dir, 'train')\n",
        "validation_dir = os.path.join(base_dir, 'validation')\n",
        "\n",
        "train_cats_dir = os.path.join(train_dir, 'cats')\n",
        "\n",
        "train_dogs_dir = os.path.join(train_dir, 'dogs')\n",
        "\n",
        "validation_cats_dir = os.path.join(validation_dir, 'cats')\n",
        "\n",
        "validation_dogs_dir = os.path.join(validation_dir, 'dogs')"
      ],
      "execution_count": null,
      "outputs": []
    },
    {
      "cell_type": "markdown",
      "metadata": {
        "id": "dXI-JddTsL0B",
        "colab_type": "text"
      },
      "source": [
        "# Modelimizi kuralım"
      ]
    },
    {
      "cell_type": "code",
      "metadata": {
        "id": "nTXX03g_sH8s",
        "colab_type": "code",
        "colab": {}
      },
      "source": [
        "model = tf.keras.models.Sequential([\n",
        "    tf.keras.layers.Conv2D(32, (3,3), activation='relu', input_shape=(150, 150, 3)),\n",
        "    tf.keras.layers.MaxPooling2D(2, 2),\n",
        "    tf.keras.layers.Conv2D(64, (3,3), activation='relu'),\n",
        "    tf.keras.layers.MaxPooling2D(2,2),\n",
        "    tf.keras.layers.Conv2D(128, (3,3), activation='relu'),\n",
        "    tf.keras.layers.MaxPooling2D(2,2),\n",
        "    tf.keras.layers.Conv2D(128, (3,3), activation='relu'),\n",
        "    tf.keras.layers.MaxPooling2D(2,2),\n",
        "    tf.keras.layers.Flatten(),\n",
        "    tf.keras.layers.Dense(512, activation='relu'),\n",
        "    tf.keras.layers.Dense(1, activation='sigmoid')\n",
        "])"
      ],
      "execution_count": null,
      "outputs": []
    },
    {
      "cell_type": "markdown",
      "metadata": {
        "id": "9jlAGvN8sQqH",
        "colab_type": "text"
      },
      "source": [
        "# Modelimizi derleyelim/compile edelim"
      ]
    },
    {
      "cell_type": "code",
      "metadata": {
        "id": "Y0SJZB1ksP0l",
        "colab_type": "code",
        "colab": {}
      },
      "source": [
        "model.compile(loss='binary_crossentropy',\n",
        "              optimizer=RMSprop(lr=1e-4),\n",
        "              metrics=['accuracy'])"
      ],
      "execution_count": null,
      "outputs": []
    },
    {
      "cell_type": "markdown",
      "metadata": {
        "id": "DGgktIwssWnY",
        "colab_type": "text"
      },
      "source": [
        "## Bu noktadan sonra eğitimi **2 farklı** şekilde yapacağız."
      ]
    },
    {
      "cell_type": "markdown",
      "metadata": {
        "id": "EDGEh63Jsd6X",
        "colab_type": "text"
      },
      "source": [
        "### 1. Verimizi çeşitlendirme yapmadan/**Without Augmentation**\n",
        "### 2. Verimizi çeşitlendirme yaparak/**With Augmentation**"
      ]
    },
    {
      "cell_type": "markdown",
      "metadata": {
        "id": "39vpWOsds3SZ",
        "colab_type": "text"
      },
      "source": [
        "İlk olarak çeşitlendirm yapmadanı yapalım ki bunu daha önce de görmüştük."
      ]
    },
    {
      "cell_type": "code",
      "metadata": {
        "id": "sp7F4F4ZsUzR",
        "colab_type": "code",
        "colab": {}
      },
      "source": [
        "train_datagen = ImageDataGenerator(rescale=1./255)\n",
        "test_datagen = ImageDataGenerator(rescale=1./255)"
      ],
      "execution_count": null,
      "outputs": []
    },
    {
      "cell_type": "code",
      "metadata": {
        "id": "2rMpDlsOs-QH",
        "colab_type": "code",
        "colab": {
          "base_uri": "https://localhost:8080/",
          "height": 51
        },
        "outputId": "ca4b79d5-36d5-49fd-cd93-a6621db1feed"
      },
      "source": [
        "train_generator = train_datagen.flow_from_directory(\n",
        "        train_dir,  \n",
        "        target_size=(150, 150),\n",
        "        batch_size=20,\n",
        "        class_mode='binary')\n",
        "\n",
        "validation_generator = test_datagen.flow_from_directory(\n",
        "        validation_dir,\n",
        "        target_size=(150, 150),\n",
        "        batch_size=20,\n",
        "        class_mode='binary')"
      ],
      "execution_count": null,
      "outputs": [
        {
          "output_type": "stream",
          "text": [
            "Found 2000 images belonging to 2 classes.\n",
            "Found 1000 images belonging to 2 classes.\n"
          ],
          "name": "stdout"
        }
      ]
    },
    {
      "cell_type": "code",
      "metadata": {
        "id": "uHsTo4UVtGJI",
        "colab_type": "code",
        "colab": {
          "base_uri": "https://localhost:8080/",
          "height": 1000
        },
        "outputId": "7cdfb560-0903-4afa-8550-e9f927b710c7"
      },
      "source": [
        "history = model.fit(\n",
        "      train_generator,\n",
        "      steps_per_epoch=100,  # 2000 images = batch_size * steps\n",
        "      epochs=100,\n",
        "      validation_data=validation_generator,\n",
        "      validation_steps=50,  # 1000 images = batch_size * steps\n",
        "      verbose=1)"
      ],
      "execution_count": null,
      "outputs": [
        {
          "output_type": "stream",
          "text": [
            "Epoch 1/100\n",
            "100/100 [==============================] - 9s 90ms/step - loss: 0.6917 - accuracy: 0.5335 - val_loss: 0.6694 - val_accuracy: 0.5670\n",
            "Epoch 2/100\n",
            "100/100 [==============================] - 9s 88ms/step - loss: 0.6674 - accuracy: 0.5955 - val_loss: 0.6497 - val_accuracy: 0.5700\n",
            "Epoch 3/100\n",
            "100/100 [==============================] - 9s 88ms/step - loss: 0.6144 - accuracy: 0.6570 - val_loss: 0.6021 - val_accuracy: 0.6770\n",
            "Epoch 4/100\n",
            "100/100 [==============================] - 9s 88ms/step - loss: 0.5671 - accuracy: 0.7070 - val_loss: 0.6085 - val_accuracy: 0.6540\n",
            "Epoch 5/100\n",
            "100/100 [==============================] - 9s 87ms/step - loss: 0.5381 - accuracy: 0.7255 - val_loss: 0.5758 - val_accuracy: 0.6900\n",
            "Epoch 6/100\n",
            "100/100 [==============================] - 9s 90ms/step - loss: 0.5119 - accuracy: 0.7465 - val_loss: 0.5820 - val_accuracy: 0.6810\n",
            "Epoch 7/100\n",
            "100/100 [==============================] - 9s 90ms/step - loss: 0.4904 - accuracy: 0.7505 - val_loss: 0.6737 - val_accuracy: 0.6390\n",
            "Epoch 8/100\n",
            "100/100 [==============================] - 9s 88ms/step - loss: 0.4675 - accuracy: 0.7735 - val_loss: 0.5567 - val_accuracy: 0.7020\n",
            "Epoch 9/100\n",
            "100/100 [==============================] - 9s 88ms/step - loss: 0.4338 - accuracy: 0.8015 - val_loss: 0.5432 - val_accuracy: 0.7340\n",
            "Epoch 10/100\n",
            "100/100 [==============================] - 9s 87ms/step - loss: 0.4114 - accuracy: 0.8185 - val_loss: 0.5888 - val_accuracy: 0.7150\n",
            "Epoch 11/100\n",
            "100/100 [==============================] - 9s 87ms/step - loss: 0.3821 - accuracy: 0.8285 - val_loss: 0.5484 - val_accuracy: 0.7270\n",
            "Epoch 12/100\n",
            "100/100 [==============================] - 9s 86ms/step - loss: 0.3603 - accuracy: 0.8460 - val_loss: 0.5353 - val_accuracy: 0.7340\n",
            "Epoch 13/100\n",
            "100/100 [==============================] - 9s 89ms/step - loss: 0.3339 - accuracy: 0.8585 - val_loss: 0.5648 - val_accuracy: 0.7320\n",
            "Epoch 14/100\n",
            "100/100 [==============================] - 9s 89ms/step - loss: 0.3175 - accuracy: 0.8635 - val_loss: 0.5440 - val_accuracy: 0.7510\n",
            "Epoch 15/100\n",
            "100/100 [==============================] - 9s 90ms/step - loss: 0.2806 - accuracy: 0.8865 - val_loss: 0.7249 - val_accuracy: 0.6950\n",
            "Epoch 16/100\n",
            "100/100 [==============================] - 9s 92ms/step - loss: 0.2718 - accuracy: 0.8860 - val_loss: 0.5513 - val_accuracy: 0.7470\n",
            "Epoch 17/100\n",
            "100/100 [==============================] - 9s 91ms/step - loss: 0.2479 - accuracy: 0.8980 - val_loss: 0.5612 - val_accuracy: 0.7430\n",
            "Epoch 18/100\n",
            "100/100 [==============================] - 9s 93ms/step - loss: 0.2242 - accuracy: 0.9145 - val_loss: 0.5763 - val_accuracy: 0.7410\n",
            "Epoch 19/100\n",
            "100/100 [==============================] - 9s 93ms/step - loss: 0.2034 - accuracy: 0.9250 - val_loss: 0.6331 - val_accuracy: 0.7300\n",
            "Epoch 20/100\n",
            "100/100 [==============================] - 9s 93ms/step - loss: 0.1838 - accuracy: 0.9285 - val_loss: 0.5932 - val_accuracy: 0.7390\n",
            "Epoch 21/100\n",
            "100/100 [==============================] - 9s 91ms/step - loss: 0.1630 - accuracy: 0.9430 - val_loss: 0.6541 - val_accuracy: 0.7390\n",
            "Epoch 22/100\n",
            "100/100 [==============================] - 9s 90ms/step - loss: 0.1475 - accuracy: 0.9485 - val_loss: 0.6339 - val_accuracy: 0.7430\n",
            "Epoch 23/100\n",
            "100/100 [==============================] - 9s 90ms/step - loss: 0.1280 - accuracy: 0.9540 - val_loss: 0.6552 - val_accuracy: 0.7470\n",
            "Epoch 24/100\n",
            "100/100 [==============================] - 9s 89ms/step - loss: 0.1078 - accuracy: 0.9665 - val_loss: 0.6747 - val_accuracy: 0.7480\n",
            "Epoch 25/100\n",
            "100/100 [==============================] - 9s 88ms/step - loss: 0.0982 - accuracy: 0.9650 - val_loss: 0.7335 - val_accuracy: 0.7520\n",
            "Epoch 26/100\n",
            "100/100 [==============================] - 9s 89ms/step - loss: 0.0906 - accuracy: 0.9750 - val_loss: 0.7623 - val_accuracy: 0.7490\n",
            "Epoch 27/100\n",
            "100/100 [==============================] - 9s 89ms/step - loss: 0.0732 - accuracy: 0.9730 - val_loss: 0.8449 - val_accuracy: 0.7280\n",
            "Epoch 28/100\n",
            "100/100 [==============================] - 9s 90ms/step - loss: 0.0621 - accuracy: 0.9840 - val_loss: 0.8212 - val_accuracy: 0.7420\n",
            "Epoch 29/100\n",
            "100/100 [==============================] - 9s 92ms/step - loss: 0.0563 - accuracy: 0.9825 - val_loss: 0.8686 - val_accuracy: 0.7510\n",
            "Epoch 30/100\n",
            "100/100 [==============================] - 9s 89ms/step - loss: 0.0484 - accuracy: 0.9870 - val_loss: 0.8681 - val_accuracy: 0.7510\n",
            "Epoch 31/100\n",
            "100/100 [==============================] - 9s 88ms/step - loss: 0.0400 - accuracy: 0.9930 - val_loss: 1.1185 - val_accuracy: 0.7230\n",
            "Epoch 32/100\n",
            "100/100 [==============================] - 9s 89ms/step - loss: 0.0350 - accuracy: 0.9905 - val_loss: 0.9977 - val_accuracy: 0.7460\n",
            "Epoch 33/100\n",
            "100/100 [==============================] - 9s 90ms/step - loss: 0.0242 - accuracy: 0.9960 - val_loss: 1.1227 - val_accuracy: 0.7310\n",
            "Epoch 34/100\n",
            "100/100 [==============================] - 9s 90ms/step - loss: 0.0251 - accuracy: 0.9930 - val_loss: 1.4593 - val_accuracy: 0.7040\n",
            "Epoch 35/100\n",
            "100/100 [==============================] - 9s 89ms/step - loss: 0.0225 - accuracy: 0.9955 - val_loss: 1.0277 - val_accuracy: 0.7500\n",
            "Epoch 36/100\n",
            "100/100 [==============================] - 9s 89ms/step - loss: 0.0183 - accuracy: 0.9955 - val_loss: 1.1080 - val_accuracy: 0.7410\n",
            "Epoch 37/100\n",
            "100/100 [==============================] - 9s 89ms/step - loss: 0.0169 - accuracy: 0.9960 - val_loss: 1.1835 - val_accuracy: 0.7360\n",
            "Epoch 38/100\n",
            "100/100 [==============================] - 9s 88ms/step - loss: 0.0173 - accuracy: 0.9945 - val_loss: 1.1692 - val_accuracy: 0.7520\n",
            "Epoch 39/100\n",
            "100/100 [==============================] - 9s 88ms/step - loss: 0.0157 - accuracy: 0.9960 - val_loss: 1.1285 - val_accuracy: 0.7510\n",
            "Epoch 40/100\n",
            "100/100 [==============================] - 9s 90ms/step - loss: 0.0229 - accuracy: 0.9950 - val_loss: 1.1733 - val_accuracy: 0.7390\n",
            "Epoch 41/100\n",
            "100/100 [==============================] - 9s 91ms/step - loss: 0.0096 - accuracy: 0.9970 - val_loss: 1.3051 - val_accuracy: 0.7490\n",
            "Epoch 42/100\n",
            "100/100 [==============================] - 9s 90ms/step - loss: 0.0117 - accuracy: 0.9975 - val_loss: 1.3319 - val_accuracy: 0.7540\n",
            "Epoch 43/100\n",
            "100/100 [==============================] - 9s 89ms/step - loss: 0.0126 - accuracy: 0.9950 - val_loss: 1.3117 - val_accuracy: 0.7370\n",
            "Epoch 44/100\n",
            "100/100 [==============================] - 9s 88ms/step - loss: 0.0066 - accuracy: 0.9980 - val_loss: 1.4661 - val_accuracy: 0.7290\n",
            "Epoch 45/100\n",
            "100/100 [==============================] - 9s 87ms/step - loss: 0.0109 - accuracy: 0.9965 - val_loss: 1.4119 - val_accuracy: 0.7500\n",
            "Epoch 46/100\n",
            "100/100 [==============================] - 9s 88ms/step - loss: 0.0070 - accuracy: 0.9975 - val_loss: 1.4648 - val_accuracy: 0.7500\n",
            "Epoch 47/100\n",
            "100/100 [==============================] - 9s 87ms/step - loss: 0.0074 - accuracy: 0.9970 - val_loss: 1.5601 - val_accuracy: 0.7450\n",
            "Epoch 48/100\n",
            "100/100 [==============================] - 9s 88ms/step - loss: 0.0216 - accuracy: 0.9960 - val_loss: 1.5158 - val_accuracy: 0.7480\n",
            "Epoch 49/100\n",
            "100/100 [==============================] - 9s 90ms/step - loss: 0.0074 - accuracy: 0.9965 - val_loss: 1.6270 - val_accuracy: 0.7420\n",
            "Epoch 50/100\n",
            "100/100 [==============================] - 9s 91ms/step - loss: 0.0087 - accuracy: 0.9970 - val_loss: 1.4983 - val_accuracy: 0.7330\n",
            "Epoch 51/100\n",
            "100/100 [==============================] - 9s 94ms/step - loss: 0.0088 - accuracy: 0.9975 - val_loss: 1.5614 - val_accuracy: 0.7400\n",
            "Epoch 52/100\n",
            "100/100 [==============================] - 9s 91ms/step - loss: 0.0038 - accuracy: 0.9990 - val_loss: 1.6022 - val_accuracy: 0.7440\n",
            "Epoch 53/100\n",
            "100/100 [==============================] - 9s 95ms/step - loss: 0.0058 - accuracy: 0.9975 - val_loss: 1.7394 - val_accuracy: 0.7260\n",
            "Epoch 54/100\n",
            "100/100 [==============================] - 9s 94ms/step - loss: 0.0074 - accuracy: 0.9975 - val_loss: 1.6730 - val_accuracy: 0.7330\n",
            "Epoch 55/100\n",
            "100/100 [==============================] - 9s 92ms/step - loss: 0.0097 - accuracy: 0.9965 - val_loss: 1.6732 - val_accuracy: 0.7400\n",
            "Epoch 56/100\n",
            "100/100 [==============================] - 9s 93ms/step - loss: 0.0059 - accuracy: 0.9975 - val_loss: 1.6592 - val_accuracy: 0.7410\n",
            "Epoch 57/100\n",
            "100/100 [==============================] - 9s 90ms/step - loss: 0.0028 - accuracy: 0.9985 - val_loss: 1.7020 - val_accuracy: 0.7440\n",
            "Epoch 58/100\n",
            "100/100 [==============================] - 9s 90ms/step - loss: 0.0118 - accuracy: 0.9965 - val_loss: 1.6982 - val_accuracy: 0.7440\n",
            "Epoch 59/100\n",
            "100/100 [==============================] - 9s 93ms/step - loss: 0.0114 - accuracy: 0.9975 - val_loss: 1.6777 - val_accuracy: 0.7480\n",
            "Epoch 60/100\n",
            "100/100 [==============================] - 9s 91ms/step - loss: 0.0049 - accuracy: 0.9990 - val_loss: 1.7174 - val_accuracy: 0.7340\n",
            "Epoch 61/100\n",
            "100/100 [==============================] - 9s 90ms/step - loss: 0.0017 - accuracy: 0.9995 - val_loss: 1.7576 - val_accuracy: 0.7480\n",
            "Epoch 62/100\n",
            "100/100 [==============================] - 9s 90ms/step - loss: 0.0072 - accuracy: 0.9975 - val_loss: 1.8439 - val_accuracy: 0.7460\n",
            "Epoch 63/100\n",
            "100/100 [==============================] - 9s 90ms/step - loss: 0.0072 - accuracy: 0.9980 - val_loss: 1.7999 - val_accuracy: 0.7470\n",
            "Epoch 64/100\n",
            "100/100 [==============================] - 9s 89ms/step - loss: 0.0031 - accuracy: 0.9990 - val_loss: 1.8806 - val_accuracy: 0.7410\n",
            "Epoch 65/100\n",
            "100/100 [==============================] - 9s 89ms/step - loss: 0.0091 - accuracy: 0.9985 - val_loss: 1.8908 - val_accuracy: 0.7340\n",
            "Epoch 66/100\n",
            "100/100 [==============================] - 9s 90ms/step - loss: 0.0069 - accuracy: 0.9975 - val_loss: 2.1417 - val_accuracy: 0.7220\n",
            "Epoch 67/100\n",
            "100/100 [==============================] - 9s 91ms/step - loss: 4.7229e-04 - accuracy: 1.0000 - val_loss: 2.0845 - val_accuracy: 0.7360\n",
            "Epoch 68/100\n",
            "100/100 [==============================] - 9s 90ms/step - loss: 0.0050 - accuracy: 0.9985 - val_loss: 1.9849 - val_accuracy: 0.7330\n",
            "Epoch 69/100\n",
            "100/100 [==============================] - 9s 90ms/step - loss: 0.0044 - accuracy: 0.9980 - val_loss: 2.0114 - val_accuracy: 0.7360\n",
            "Epoch 70/100\n",
            "100/100 [==============================] - 9s 90ms/step - loss: 0.0086 - accuracy: 0.9975 - val_loss: 2.0265 - val_accuracy: 0.7330\n",
            "Epoch 71/100\n",
            "100/100 [==============================] - 9s 89ms/step - loss: 0.0149 - accuracy: 0.9965 - val_loss: 2.0194 - val_accuracy: 0.7330\n",
            "Epoch 72/100\n",
            "100/100 [==============================] - 9s 88ms/step - loss: 1.4123e-04 - accuracy: 1.0000 - val_loss: 2.0722 - val_accuracy: 0.7310\n",
            "Epoch 73/100\n",
            "100/100 [==============================] - 9s 89ms/step - loss: 0.0044 - accuracy: 0.9975 - val_loss: 2.0102 - val_accuracy: 0.7410\n",
            "Epoch 74/100\n",
            "100/100 [==============================] - 9s 89ms/step - loss: 0.0073 - accuracy: 0.9985 - val_loss: 2.0099 - val_accuracy: 0.7360\n",
            "Epoch 75/100\n",
            "100/100 [==============================] - 9s 91ms/step - loss: 0.0027 - accuracy: 0.9990 - val_loss: 1.9409 - val_accuracy: 0.7430\n",
            "Epoch 76/100\n",
            "100/100 [==============================] - 9s 91ms/step - loss: 1.3500e-04 - accuracy: 1.0000 - val_loss: 2.2381 - val_accuracy: 0.7400\n",
            "Epoch 77/100\n",
            "100/100 [==============================] - 9s 90ms/step - loss: 0.0046 - accuracy: 0.9990 - val_loss: 2.2272 - val_accuracy: 0.7370\n",
            "Epoch 78/100\n",
            "100/100 [==============================] - 9s 89ms/step - loss: 0.0038 - accuracy: 0.9985 - val_loss: 2.0780 - val_accuracy: 0.7480\n",
            "Epoch 79/100\n",
            "100/100 [==============================] - 9s 89ms/step - loss: 0.0081 - accuracy: 0.9965 - val_loss: 2.1137 - val_accuracy: 0.7420\n",
            "Epoch 80/100\n",
            "100/100 [==============================] - 9s 90ms/step - loss: 0.0012 - accuracy: 0.9995 - val_loss: 2.1404 - val_accuracy: 0.7440\n",
            "Epoch 81/100\n",
            "100/100 [==============================] - 9s 89ms/step - loss: 6.6066e-05 - accuracy: 1.0000 - val_loss: 2.3049 - val_accuracy: 0.7350\n",
            "Epoch 82/100\n",
            "100/100 [==============================] - 9s 89ms/step - loss: 0.0043 - accuracy: 0.9980 - val_loss: 2.3042 - val_accuracy: 0.7420\n",
            "Epoch 83/100\n",
            "100/100 [==============================] - 9s 89ms/step - loss: 0.0067 - accuracy: 0.9975 - val_loss: 2.1705 - val_accuracy: 0.7470\n",
            "Epoch 84/100\n",
            "100/100 [==============================] - 9s 90ms/step - loss: 3.2784e-04 - accuracy: 1.0000 - val_loss: 2.4333 - val_accuracy: 0.7310\n",
            "Epoch 85/100\n",
            "100/100 [==============================] - 9s 89ms/step - loss: 0.0010 - accuracy: 0.9995 - val_loss: 2.2942 - val_accuracy: 0.7460\n",
            "Epoch 86/100\n",
            "100/100 [==============================] - 9s 90ms/step - loss: 0.0041 - accuracy: 0.9990 - val_loss: 2.3969 - val_accuracy: 0.7340\n",
            "Epoch 87/100\n",
            "100/100 [==============================] - 9s 89ms/step - loss: 0.0048 - accuracy: 0.9985 - val_loss: 2.4139 - val_accuracy: 0.7470\n",
            "Epoch 88/100\n",
            "100/100 [==============================] - 9s 89ms/step - loss: 1.8842e-05 - accuracy: 1.0000 - val_loss: 2.3962 - val_accuracy: 0.7470\n",
            "Epoch 89/100\n",
            "100/100 [==============================] - 9s 89ms/step - loss: 0.0075 - accuracy: 0.9970 - val_loss: 2.3366 - val_accuracy: 0.7400\n",
            "Epoch 90/100\n",
            "100/100 [==============================] - 9s 89ms/step - loss: 0.0027 - accuracy: 0.9995 - val_loss: 2.3964 - val_accuracy: 0.7450\n",
            "Epoch 91/100\n",
            "100/100 [==============================] - 9s 88ms/step - loss: 0.0063 - accuracy: 0.9990 - val_loss: 2.3714 - val_accuracy: 0.7340\n",
            "Epoch 92/100\n",
            "100/100 [==============================] - 9s 88ms/step - loss: 1.3047e-04 - accuracy: 1.0000 - val_loss: 2.3524 - val_accuracy: 0.7400\n",
            "Epoch 93/100\n",
            "100/100 [==============================] - 9s 87ms/step - loss: 0.0041 - accuracy: 0.9985 - val_loss: 2.4371 - val_accuracy: 0.7410\n",
            "Epoch 94/100\n",
            "100/100 [==============================] - 9s 88ms/step - loss: 1.0882e-05 - accuracy: 1.0000 - val_loss: 2.5877 - val_accuracy: 0.7380\n",
            "Epoch 95/100\n",
            "100/100 [==============================] - 9s 89ms/step - loss: 0.0049 - accuracy: 0.9985 - val_loss: 2.9595 - val_accuracy: 0.7400\n",
            "Epoch 96/100\n",
            "100/100 [==============================] - 9s 88ms/step - loss: 0.0031 - accuracy: 0.9990 - val_loss: 2.6017 - val_accuracy: 0.7280\n",
            "Epoch 97/100\n",
            "100/100 [==============================] - 9s 88ms/step - loss: 0.0082 - accuracy: 0.9985 - val_loss: 2.4879 - val_accuracy: 0.7340\n",
            "Epoch 98/100\n",
            "100/100 [==============================] - 9s 88ms/step - loss: 0.0074 - accuracy: 0.9980 - val_loss: 2.2981 - val_accuracy: 0.7390\n",
            "Epoch 99/100\n",
            "100/100 [==============================] - 9s 88ms/step - loss: 5.2978e-05 - accuracy: 1.0000 - val_loss: 2.4640 - val_accuracy: 0.7410\n",
            "Epoch 100/100\n",
            "100/100 [==============================] - 9s 88ms/step - loss: 0.0023 - accuracy: 0.9990 - val_loss: 2.5804 - val_accuracy: 0.7370\n"
          ],
          "name": "stdout"
        }
      ]
    },
    {
      "cell_type": "markdown",
      "metadata": {
        "id": "4ocFrWnQw2Gb",
        "colab_type": "text"
      },
      "source": [
        "Bu yöntemin doğruluğuna bakalım"
      ]
    },
    {
      "cell_type": "code",
      "metadata": {
        "id": "udyNJBvjtNCY",
        "colab_type": "code",
        "colab": {
          "base_uri": "https://localhost:8080/",
          "height": 545
        },
        "outputId": "374c8ffb-a656-4ab2-af46-59b5d264e909"
      },
      "source": [
        "import matplotlib.pyplot as plt\n",
        "acc = history.history['accuracy']\n",
        "val_acc = history.history['val_accuracy']\n",
        "loss = history.history['loss']\n",
        "val_loss = history.history['val_loss']\n",
        "\n",
        "epochs = range(len(acc))\n",
        "\n",
        "plt.plot(epochs, acc, 'bo', label='Training accuracy')\n",
        "plt.plot(epochs, val_acc, 'b', label='Validation accuracy')\n",
        "plt.title('Training and validation accuracy')\n",
        "\n",
        "plt.figure()\n",
        "\n",
        "plt.plot(epochs, loss, 'bo', label='Training Loss')\n",
        "plt.plot(epochs, val_loss, 'b', label='Validation Loss')\n",
        "plt.title('Training and validation loss')\n",
        "plt.legend()\n",
        "\n",
        "plt.show()"
      ],
      "execution_count": null,
      "outputs": [
        {
          "output_type": "display_data",
          "data": {
            "image/png": "[encoded data removed]",
            "text/plain": [
              "<Figure size 432x288 with 1 Axes>"
            ]
          },
          "metadata": {
            "tags": [],
            "needs_background": "light"
          }
        },
        {
          "output_type": "display_data",
          "data": {
            "image/png": "[encoded data removed]",
            "text/plain": [
              "<Figure size 432x288 with 1 Axes>"
            ]
          },
          "metadata": {
            "tags": [],
            "needs_background": "light"
          }
        }
      ]
    },
    {
      "cell_type": "markdown",
      "metadata": {
        "id": "V509aNoXw9YN",
        "colab_type": "text"
      },
      "source": [
        "### Güzel şimdi verimizi çeşitlendirme yöntemi ile  yapalım/ **With data Augmentation**"
      ]
    },
    {
      "cell_type": "markdown",
      "metadata": {
        "id": "0OkkhSV5xIm3",
        "colab_type": "text"
      },
      "source": [
        "#### Bilinmesi gereken bazı husular"
      ]
    },
    {
      "cell_type": "markdown",
      "metadata": {
        "id": "gIAZSntBxQAh",
        "colab_type": "text"
      },
      "source": [
        "1. **rotation_range=x** resim 0 ile x derece arasında rastgele bir değer seçilerek döndürülür.(x=40 gibi)\n",
        "2. **width_shift_range=x** ve **height_shift_range=x** resmi enine veya boyuna belirtilen oranda kaydırır (x=0.2 gibi)\n",
        "3. **shear_range=x** derece cinsinden saat yönününün tersine resmi döndürür.(x=0.2 gibi)\n",
        "4. **zoom_range=x** yine belirtilen oran ile 0 arasında rastgele bir oran ile resmi yakınlaştırır. (x=0.2 gibi)\n",
        "5. **horizontal_flip=True** dikey eksende yansımasını alır.\n",
        "6. **fill_mode=\"nearest** yukarda yyapılan işlemler veya buna benzer başka işlemlerden ötürü pixel kaybolursa ,kaybolan pixelleri doldurma komutu.\"nearest\" ölü pixelin en yakınındaki pixel ile doldurulur."
      ]
    },
    {
      "cell_type": "code",
      "metadata": {
        "id": "QoZn9HwDw7Ny",
        "colab_type": "code",
        "colab": {}
      },
      "source": [
        "train_datagen = ImageDataGenerator(\n",
        "      rescale=1./255,\n",
        "      rotation_range=40,\n",
        "      width_shift_range=0.2,\n",
        "      height_shift_range=0.2,\n",
        "      shear_range=0.2,\n",
        "      zoom_range=0.2,\n",
        "      horizontal_flip=True,\n",
        "      fill_mode='nearest')"
      ],
      "execution_count": null,
      "outputs": []
    },
    {
      "cell_type": "markdown",
      "metadata": {
        "id": "H0uEEahAxsfl",
        "colab_type": "text"
      },
      "source": [
        "Üstteki kod kutusu ile veri çeşitlendirmemizi yaptık.\n",
        "\n",
        "Diğer işlemler aynı"
      ]
    },
    {
      "cell_type": "code",
      "metadata": {
        "id": "QD5NywEdxlNl",
        "colab_type": "code",
        "colab": {
          "base_uri": "https://localhost:8080/",
          "height": 51
        },
        "outputId": "f796bcb2-0510-4905-e463-19ab8dc9d5c9"
      },
      "source": [
        "test_datagen = ImageDataGenerator(rescale=1./255)\n",
        "\n",
        "# Flow training images in batches of 20 using train_datagen generator\n",
        "train_generator = train_datagen.flow_from_directory(\n",
        "        train_dir,  # This is the source directory for training images\n",
        "        target_size=(150, 150),  # All images will be resized to 150x150\n",
        "        batch_size=20,\n",
        "        # Since we use binary_crossentropy loss, we need binary labels\n",
        "        class_mode='binary')\n",
        "\n",
        "# Flow validation images in batches of 20 using test_datagen generator\n",
        "validation_generator = test_datagen.flow_from_directory(\n",
        "        validation_dir,\n",
        "        target_size=(150, 150),\n",
        "        batch_size=20,\n",
        "        class_mode='binary')\n"
      ],
      "execution_count": null,
      "outputs": [
        {
          "output_type": "stream",
          "text": [
            "Found 2000 images belonging to 2 classes.\n",
            "Found 1000 images belonging to 2 classes.\n"
          ],
          "name": "stdout"
        }
      ]
    },
    {
      "cell_type": "code",
      "metadata": {
        "id": "kBQioAKuxo3d",
        "colab_type": "code",
        "colab": {
          "base_uri": "https://localhost:8080/",
          "height": 1000
        },
        "outputId": "5eaff9d9-2f03-460a-d19b-4a6758943317"
      },
      "source": [
        "history = model.fit(\n",
        "      train_generator,\n",
        "      steps_per_epoch=100,  # 2000 images = batch_size * steps\n",
        "      epochs=100,\n",
        "      validation_data=validation_generator,\n",
        "      validation_steps=50,  # 1000 images = batch_size * steps\n",
        "      verbose=2)"
      ],
      "execution_count": null,
      "outputs": [
        {
          "output_type": "stream",
          "text": [
            "Epoch 1/100\n",
            "100/100 - 17s - loss: 1.2861 - accuracy: 0.6750 - val_loss: 0.5503 - val_accuracy: 0.7330\n",
            "Epoch 2/100\n",
            "100/100 - 17s - loss: 0.5896 - accuracy: 0.6785 - val_loss: 0.5154 - val_accuracy: 0.7490\n",
            "Epoch 3/100\n",
            "100/100 - 17s - loss: 0.5674 - accuracy: 0.7090 - val_loss: 0.5099 - val_accuracy: 0.7560\n",
            "Epoch 4/100\n",
            "100/100 - 18s - loss: 0.5702 - accuracy: 0.7225 - val_loss: 0.5166 - val_accuracy: 0.7460\n",
            "Epoch 5/100\n",
            "100/100 - 17s - loss: 0.5577 - accuracy: 0.7125 - val_loss: 0.5613 - val_accuracy: 0.7370\n",
            "Epoch 6/100\n",
            "100/100 - 18s - loss: 0.5502 - accuracy: 0.7240 - val_loss: 0.5067 - val_accuracy: 0.7600\n",
            "Epoch 7/100\n",
            "100/100 - 17s - loss: 0.5418 - accuracy: 0.7330 - val_loss: 0.4881 - val_accuracy: 0.7820\n",
            "Epoch 8/100\n",
            "100/100 - 17s - loss: 0.5384 - accuracy: 0.7180 - val_loss: 0.5119 - val_accuracy: 0.7580\n",
            "Epoch 9/100\n",
            "100/100 - 18s - loss: 0.5258 - accuracy: 0.7320 - val_loss: 0.5008 - val_accuracy: 0.7640\n",
            "Epoch 10/100\n",
            "100/100 - 18s - loss: 0.5352 - accuracy: 0.7280 - val_loss: 0.5290 - val_accuracy: 0.7600\n",
            "Epoch 11/100\n",
            "100/100 - 18s - loss: 0.5310 - accuracy: 0.7480 - val_loss: 0.5037 - val_accuracy: 0.7410\n",
            "Epoch 12/100\n",
            "100/100 - 17s - loss: 0.5277 - accuracy: 0.7310 - val_loss: 0.4928 - val_accuracy: 0.7730\n",
            "Epoch 13/100\n",
            "100/100 - 18s - loss: 0.5239 - accuracy: 0.7440 - val_loss: 0.4778 - val_accuracy: 0.7760\n",
            "Epoch 14/100\n",
            "100/100 - 18s - loss: 0.5172 - accuracy: 0.7390 - val_loss: 0.4819 - val_accuracy: 0.7930\n",
            "Epoch 15/100\n",
            "100/100 - 17s - loss: 0.5194 - accuracy: 0.7540 - val_loss: 0.5237 - val_accuracy: 0.7700\n",
            "Epoch 16/100\n",
            "100/100 - 18s - loss: 0.5114 - accuracy: 0.7390 - val_loss: 0.4802 - val_accuracy: 0.7750\n",
            "Epoch 17/100\n",
            "100/100 - 18s - loss: 0.5123 - accuracy: 0.7500 - val_loss: 0.4531 - val_accuracy: 0.7880\n",
            "Epoch 18/100\n",
            "100/100 - 18s - loss: 0.5055 - accuracy: 0.7525 - val_loss: 0.4858 - val_accuracy: 0.7610\n",
            "Epoch 19/100\n",
            "100/100 - 17s - loss: 0.4997 - accuracy: 0.7535 - val_loss: 0.4460 - val_accuracy: 0.7990\n",
            "Epoch 20/100\n",
            "100/100 - 17s - loss: 0.4893 - accuracy: 0.7645 - val_loss: 0.4874 - val_accuracy: 0.7700\n",
            "Epoch 21/100\n",
            "100/100 - 17s - loss: 0.4926 - accuracy: 0.7555 - val_loss: 0.4588 - val_accuracy: 0.8000\n",
            "Epoch 22/100\n",
            "100/100 - 17s - loss: 0.4781 - accuracy: 0.7775 - val_loss: 0.5068 - val_accuracy: 0.7700\n",
            "Epoch 23/100\n",
            "100/100 - 17s - loss: 0.4924 - accuracy: 0.7730 - val_loss: 0.4716 - val_accuracy: 0.7820\n",
            "Epoch 24/100\n",
            "100/100 - 17s - loss: 0.4868 - accuracy: 0.7655 - val_loss: 0.4683 - val_accuracy: 0.7790\n",
            "Epoch 25/100\n",
            "100/100 - 17s - loss: 0.4694 - accuracy: 0.7825 - val_loss: 0.5234 - val_accuracy: 0.7650\n",
            "Epoch 26/100\n",
            "100/100 - 17s - loss: 0.4851 - accuracy: 0.7630 - val_loss: 0.4902 - val_accuracy: 0.7440\n",
            "Epoch 27/100\n",
            "100/100 - 17s - loss: 0.4738 - accuracy: 0.7775 - val_loss: 0.5238 - val_accuracy: 0.7560\n",
            "Epoch 28/100\n",
            "100/100 - 17s - loss: 0.4884 - accuracy: 0.7740 - val_loss: 0.4474 - val_accuracy: 0.7990\n",
            "Epoch 29/100\n",
            "100/100 - 17s - loss: 0.4783 - accuracy: 0.7705 - val_loss: 0.4998 - val_accuracy: 0.7770\n",
            "Epoch 30/100\n",
            "100/100 - 17s - loss: 0.4883 - accuracy: 0.7705 - val_loss: 0.4507 - val_accuracy: 0.7980\n",
            "Epoch 31/100\n",
            "100/100 - 17s - loss: 0.4792 - accuracy: 0.7760 - val_loss: 0.4515 - val_accuracy: 0.7900\n",
            "Epoch 32/100\n",
            "100/100 - 17s - loss: 0.4609 - accuracy: 0.7765 - val_loss: 0.4447 - val_accuracy: 0.8110\n",
            "Epoch 33/100\n",
            "100/100 - 17s - loss: 0.4789 - accuracy: 0.7790 - val_loss: 0.4514 - val_accuracy: 0.7980\n",
            "Epoch 34/100\n",
            "100/100 - 17s - loss: 0.4625 - accuracy: 0.7895 - val_loss: 0.4520 - val_accuracy: 0.7880\n",
            "Epoch 35/100\n",
            "100/100 - 17s - loss: 0.4591 - accuracy: 0.7820 - val_loss: 0.4887 - val_accuracy: 0.7770\n",
            "Epoch 36/100\n",
            "100/100 - 17s - loss: 0.4586 - accuracy: 0.7815 - val_loss: 0.4804 - val_accuracy: 0.7760\n",
            "Epoch 37/100\n",
            "100/100 - 17s - loss: 0.4722 - accuracy: 0.7790 - val_loss: 0.4784 - val_accuracy: 0.7940\n",
            "Epoch 38/100\n",
            "100/100 - 17s - loss: 0.4599 - accuracy: 0.7985 - val_loss: 0.7654 - val_accuracy: 0.6720\n",
            "Epoch 39/100\n",
            "100/100 - 17s - loss: 0.4437 - accuracy: 0.8005 - val_loss: 0.5709 - val_accuracy: 0.7680\n",
            "Epoch 40/100\n",
            "100/100 - 17s - loss: 0.4574 - accuracy: 0.7890 - val_loss: 0.4335 - val_accuracy: 0.8100\n",
            "Epoch 41/100\n",
            "100/100 - 17s - loss: 0.4453 - accuracy: 0.7935 - val_loss: 0.4457 - val_accuracy: 0.7800\n",
            "Epoch 42/100\n",
            "100/100 - 17s - loss: 0.4492 - accuracy: 0.7915 - val_loss: 0.5178 - val_accuracy: 0.7620\n",
            "Epoch 43/100\n",
            "100/100 - 17s - loss: 0.4548 - accuracy: 0.7890 - val_loss: 0.4403 - val_accuracy: 0.7880\n",
            "Epoch 44/100\n",
            "100/100 - 17s - loss: 0.4650 - accuracy: 0.7765 - val_loss: 0.6453 - val_accuracy: 0.7720\n",
            "Epoch 45/100\n",
            "100/100 - 17s - loss: 0.4491 - accuracy: 0.7830 - val_loss: 0.4350 - val_accuracy: 0.8100\n",
            "Epoch 46/100\n",
            "100/100 - 17s - loss: 0.4473 - accuracy: 0.7930 - val_loss: 0.4817 - val_accuracy: 0.7820\n",
            "Epoch 47/100\n",
            "100/100 - 18s - loss: 0.4493 - accuracy: 0.7945 - val_loss: 0.4430 - val_accuracy: 0.7940\n",
            "Epoch 48/100\n",
            "100/100 - 17s - loss: 0.4436 - accuracy: 0.7935 - val_loss: 0.5194 - val_accuracy: 0.7550\n",
            "Epoch 49/100\n",
            "100/100 - 17s - loss: 0.4510 - accuracy: 0.7950 - val_loss: 0.4987 - val_accuracy: 0.7800\n",
            "Epoch 50/100\n",
            "100/100 - 17s - loss: 0.4598 - accuracy: 0.7855 - val_loss: 0.4666 - val_accuracy: 0.7910\n",
            "Epoch 51/100\n",
            "100/100 - 17s - loss: 0.4447 - accuracy: 0.8005 - val_loss: 0.5175 - val_accuracy: 0.7670\n",
            "Epoch 52/100\n",
            "100/100 - 17s - loss: 0.4357 - accuracy: 0.7965 - val_loss: 0.5332 - val_accuracy: 0.7590\n",
            "Epoch 53/100\n",
            "100/100 - 17s - loss: 0.4175 - accuracy: 0.8055 - val_loss: 0.5043 - val_accuracy: 0.7490\n",
            "Epoch 54/100\n",
            "100/100 - 17s - loss: 0.4399 - accuracy: 0.7920 - val_loss: 0.4957 - val_accuracy: 0.7760\n",
            "Epoch 55/100\n",
            "100/100 - 17s - loss: 0.4438 - accuracy: 0.8035 - val_loss: 0.4604 - val_accuracy: 0.8120\n",
            "Epoch 56/100\n",
            "100/100 - 17s - loss: 0.4465 - accuracy: 0.8065 - val_loss: 0.4398 - val_accuracy: 0.8110\n",
            "Epoch 57/100\n",
            "100/100 - 17s - loss: 0.4242 - accuracy: 0.8075 - val_loss: 0.4474 - val_accuracy: 0.7990\n",
            "Epoch 58/100\n",
            "100/100 - 17s - loss: 0.4232 - accuracy: 0.7980 - val_loss: 0.5151 - val_accuracy: 0.7780\n",
            "Epoch 59/100\n",
            "100/100 - 17s - loss: 0.4350 - accuracy: 0.8030 - val_loss: 0.5599 - val_accuracy: 0.7520\n",
            "Epoch 60/100\n",
            "100/100 - 17s - loss: 0.4219 - accuracy: 0.8125 - val_loss: 0.4866 - val_accuracy: 0.7900\n",
            "Epoch 61/100\n",
            "100/100 - 16s - loss: 0.4291 - accuracy: 0.8005 - val_loss: 0.4296 - val_accuracy: 0.8070\n",
            "Epoch 62/100\n",
            "100/100 - 16s - loss: 0.4062 - accuracy: 0.8230 - val_loss: 0.4843 - val_accuracy: 0.7840\n",
            "Epoch 63/100\n",
            "100/100 - 16s - loss: 0.4137 - accuracy: 0.8150 - val_loss: 0.4649 - val_accuracy: 0.8130\n",
            "Epoch 64/100\n",
            "100/100 - 17s - loss: 0.4297 - accuracy: 0.8010 - val_loss: 0.4497 - val_accuracy: 0.7980\n",
            "Epoch 65/100\n",
            "100/100 - 17s - loss: 0.4162 - accuracy: 0.8105 - val_loss: 0.4676 - val_accuracy: 0.8060\n",
            "Epoch 66/100\n",
            "100/100 - 17s - loss: 0.4252 - accuracy: 0.8090 - val_loss: 0.5619 - val_accuracy: 0.7670\n",
            "Epoch 67/100\n",
            "100/100 - 16s - loss: 0.4210 - accuracy: 0.8040 - val_loss: 0.5631 - val_accuracy: 0.7770\n",
            "Epoch 68/100\n",
            "100/100 - 16s - loss: 0.4220 - accuracy: 0.8060 - val_loss: 0.4967 - val_accuracy: 0.7800\n",
            "Epoch 69/100\n",
            "100/100 - 16s - loss: 0.4267 - accuracy: 0.8085 - val_loss: 0.4747 - val_accuracy: 0.7860\n",
            "Epoch 70/100\n",
            "100/100 - 16s - loss: 0.4026 - accuracy: 0.8200 - val_loss: 0.4945 - val_accuracy: 0.7860\n",
            "Epoch 71/100\n",
            "100/100 - 17s - loss: 0.4185 - accuracy: 0.8150 - val_loss: 0.4173 - val_accuracy: 0.8170\n",
            "Epoch 72/100\n",
            "100/100 - 17s - loss: 0.4188 - accuracy: 0.8155 - val_loss: 0.4449 - val_accuracy: 0.7920\n",
            "Epoch 73/100\n",
            "100/100 - 17s - loss: 0.4093 - accuracy: 0.8280 - val_loss: 0.4660 - val_accuracy: 0.7960\n",
            "Epoch 74/100\n",
            "100/100 - 17s - loss: 0.4283 - accuracy: 0.8055 - val_loss: 0.4211 - val_accuracy: 0.8110\n",
            "Epoch 75/100\n",
            "100/100 - 17s - loss: 0.4025 - accuracy: 0.8275 - val_loss: 0.4805 - val_accuracy: 0.7790\n",
            "Epoch 76/100\n",
            "100/100 - 17s - loss: 0.4090 - accuracy: 0.8210 - val_loss: 0.4067 - val_accuracy: 0.8190\n",
            "Epoch 77/100\n",
            "100/100 - 17s - loss: 0.4190 - accuracy: 0.8040 - val_loss: 0.5319 - val_accuracy: 0.7800\n",
            "Epoch 78/100\n",
            "100/100 - 17s - loss: 0.4055 - accuracy: 0.8165 - val_loss: 0.4610 - val_accuracy: 0.8090\n",
            "Epoch 79/100\n",
            "100/100 - 17s - loss: 0.4218 - accuracy: 0.8200 - val_loss: 0.4235 - val_accuracy: 0.8150\n",
            "Epoch 80/100\n",
            "100/100 - 17s - loss: 0.4080 - accuracy: 0.8155 - val_loss: 0.3987 - val_accuracy: 0.8260\n",
            "Epoch 81/100\n",
            "100/100 - 17s - loss: 0.4185 - accuracy: 0.8085 - val_loss: 0.4158 - val_accuracy: 0.8130\n",
            "Epoch 82/100\n",
            "100/100 - 17s - loss: 0.3906 - accuracy: 0.8225 - val_loss: 0.4146 - val_accuracy: 0.8270\n",
            "Epoch 83/100\n",
            "100/100 - 17s - loss: 0.3990 - accuracy: 0.8300 - val_loss: 0.4375 - val_accuracy: 0.8010\n",
            "Epoch 84/100\n",
            "100/100 - 17s - loss: 0.4073 - accuracy: 0.8205 - val_loss: 0.5723 - val_accuracy: 0.7300\n",
            "Epoch 85/100\n",
            "100/100 - 17s - loss: 0.3893 - accuracy: 0.8200 - val_loss: 0.4777 - val_accuracy: 0.8000\n",
            "Epoch 86/100\n",
            "100/100 - 17s - loss: 0.4161 - accuracy: 0.8180 - val_loss: 0.4575 - val_accuracy: 0.8210\n",
            "Epoch 87/100\n",
            "100/100 - 17s - loss: 0.3948 - accuracy: 0.8250 - val_loss: 0.4276 - val_accuracy: 0.8120\n",
            "Epoch 88/100\n",
            "100/100 - 17s - loss: 0.3983 - accuracy: 0.8275 - val_loss: 0.7585 - val_accuracy: 0.7390\n",
            "Epoch 89/100\n",
            "100/100 - 17s - loss: 0.4039 - accuracy: 0.8070 - val_loss: 0.5581 - val_accuracy: 0.7970\n",
            "Epoch 90/100\n",
            "100/100 - 17s - loss: 0.4161 - accuracy: 0.8200 - val_loss: 0.4051 - val_accuracy: 0.8210\n",
            "Epoch 91/100\n",
            "100/100 - 17s - loss: 0.3916 - accuracy: 0.8230 - val_loss: 0.4063 - val_accuracy: 0.8110\n",
            "Epoch 92/100\n",
            "Epoch 93/100\n",
            "100/100 - 17s - loss: 0.3992 - accuracy: 0.8175 - val_loss: 0.3942 - val_accuracy: 0.8230\n",
            "Epoch 94/100\n",
            "100/100 - 17s - loss: 0.4036 - accuracy: 0.8150 - val_loss: 0.7591 - val_accuracy: 0.7290\n",
            "Epoch 95/100\n",
            "100/100 - 16s - loss: 0.4074 - accuracy: 0.8225 - val_loss: 0.4464 - val_accuracy: 0.8030\n",
            "Epoch 96/100\n",
            "100/100 - 17s - loss: 0.3908 - accuracy: 0.8305 - val_loss: 0.5040 - val_accuracy: 0.7860\n",
            "Epoch 97/100\n",
            "100/100 - 17s - loss: 0.3940 - accuracy: 0.8200 - val_loss: 0.4681 - val_accuracy: 0.8100\n",
            "Epoch 98/100\n",
            "100/100 - 16s - loss: 0.3854 - accuracy: 0.8280 - val_loss: 0.5094 - val_accuracy: 0.8080\n",
            "Epoch 99/100\n",
            "100/100 - 16s - loss: 0.3860 - accuracy: 0.8320 - val_loss: 0.4155 - val_accuracy: 0.8200\n",
            "Epoch 100/100\n",
            "100/100 - 16s - loss: 0.3815 - accuracy: 0.8220 - val_loss: 0.3812 - val_accuracy: 0.8400\n"
          ],
          "name": "stdout"
        }
      ]
    },
    {
      "cell_type": "markdown",
      "metadata": {
        "id": "jeHu6uR64Z4i",
        "colab_type": "text"
      },
      "source": [
        "Yeni işlemin doğruluğuna bakalım"
      ]
    },
    {
      "cell_type": "code",
      "metadata": {
        "id": "xUL0nTrCxree",
        "colab_type": "code",
        "colab": {
          "base_uri": "https://localhost:8080/",
          "height": 545
        },
        "outputId": "6279f51d-79bd-42bd-ef80-0e0a9b79be24"
      },
      "source": [
        "import matplotlib.pyplot as plt\n",
        "acc = history.history['accuracy']\n",
        "val_acc = history.history['val_accuracy']\n",
        "loss = history.history['loss']\n",
        "val_loss = history.history['val_loss']\n",
        "\n",
        "epochs = range(len(acc))\n",
        "\n",
        "plt.plot(epochs, acc, 'bo', label='Training accuracy')\n",
        "plt.plot(epochs, val_acc, 'b', label='Validation accuracy')\n",
        "plt.title('Training and validation accuracy')\n",
        "\n",
        "plt.figure()\n",
        "\n",
        "plt.plot(epochs, loss, 'bo', label='Training Loss')\n",
        "plt.plot(epochs, val_loss, 'b', label='Validation Loss')\n",
        "plt.title('Training and validation loss')\n",
        "plt.legend()\n",
        "\n",
        "plt.show()"
      ],
      "execution_count": null,
      "outputs": [
        {
          "output_type": "display_data",
          "data": {
            "image/png": "[encoded data removed]",
            "text/plain": [
              "<Figure size 432x288 with 1 Axes>"
            ]
          },
          "metadata": {
            "tags": [],
            "needs_background": "light"
          }
        },
        {
          "output_type": "display_data",
          "data": {
            "image/png": "[encoded data removed]",
            "text/plain": [
              "<Figure size 432x288 with 1 Axes>"
            ]
          },
          "metadata": {
            "tags": [],
            "needs_background": "light"
          }
        }
      ]
    },
    {
      "cell_type": "markdown",
      "metadata": {
        "id": "7UYhaeUo4dJ9",
        "colab_type": "text"
      },
      "source": [
        "### Göründüğü gibi çeşitlendirme olumlu yönde sonuç verdi"
      ]
    }
  ]
}